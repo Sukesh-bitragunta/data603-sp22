{
 "cells": [
  {
   "cell_type": "code",
   "execution_count": 1,
   "metadata": {},
   "outputs": [],
   "source": [
    "from mrjob.job import MRJob\n",
    "import csv\n",
    "import statistics"
   ]
  },
  {
   "cell_type": "code",
   "execution_count": 2,
   "metadata": {},
   "outputs": [
    {
     "name": "stdout",
     "output_type": "stream",
     "text": [
      "Overwriting hw03-1.py\n"
     ]
    }
   ],
   "source": [
    "%%file hw03-1.py\n",
    "class avgwords (MRJob):\n",
    "    def Mapper (self,_,line):\n",
    "        read = csv.reader(line)\n",
    "        review_words=[]\n",
    "        for i in read:\n",
    "            review_words.append(i)    \n",
    "        yield \"avg_word_review\", len(review_words[4].split(' '))\n",
    "        \n",
    "    def Reducer(self,key,values):\n",
    "        yield key, values.mean()\n",
    "        \n",
    "if __name__ == '__main__':\n",
    "    avgwords.run()       "
   ]
  },
  {
   "cell_type": "code",
   "execution_count": 3,
   "metadata": {},
   "outputs": [
    {
     "name": "stdout",
     "output_type": "stream",
     "text": [
      "Overwriting hw03-2.py\n"
     ]
    }
   ],
   "source": [
    "%%file hw03-2.py\n",
    "class year_month (MRJob):\n",
    "    def Mapper (self,_,line):\n",
    "        read = csv.reader(line)\n",
    "        y_mon=[]\n",
    "        for i in read:\n",
    "            y_mon.append(i)\n",
    "        yield y_mon[1][0:7],1\n",
    "        \n",
    "    def Reducer (self,key,values):\n",
    "        yield key, print(sum(values))\n",
    "        \n",
    "if __name__ = '__main__':\n",
    "    year_month.run()"
   ]
  },
  {
   "cell_type": "code",
   "execution_count": 8,
   "metadata": {},
   "outputs": [
    {
     "name": "stdout",
     "output_type": "stream",
     "text": [
      "Overwriting hw03-3.py\n"
     ]
    }
   ],
   "source": [
    "%%file hw03-3.py\n",
    "class cool (MRJob):\n",
    "    def Mapper (self,_,line):\n",
    "        read = csv.reader(line)\n",
    "        stars = []\n",
    "        for i in read:\n",
    "            stars.append(i)\n",
    "        if cool != 0:\n",
    "            yield cool[7], stars[3]\n",
    "        \n",
    "    def Reducer (self,key,values):\n",
    "        yield key, print(values.mean())\n",
    "        \n",
    "if __name == '__main__':\n",
    "    cool.run()    "
   ]
  }
 ],
 "metadata": {
  "kernelspec": {
   "display_name": "Python 3",
   "language": "python",
   "name": "python3"
  },
  "language_info": {
   "codemirror_mode": {
    "name": "ipython",
    "version": 3
   },
   "file_extension": ".py",
   "mimetype": "text/x-python",
   "name": "python",
   "nbconvert_exporter": "python",
   "pygments_lexer": "ipython3",
   "version": "3.8.5"
  }
 },
 "nbformat": 4,
 "nbformat_minor": 4
}
