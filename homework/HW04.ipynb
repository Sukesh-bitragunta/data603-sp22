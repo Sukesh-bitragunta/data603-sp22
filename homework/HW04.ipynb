{
  "nbformat": 4,
  "nbformat_minor": 0,
  "metadata": {
    "colab": {
      "name": "HW04.ipynb",
      "provenance": []
    },
    "kernelspec": {
      "name": "python3",
      "display_name": "Python 3"
    },
    "language_info": {
      "name": "python"
    }
  },
  "cells": [
    {
      "cell_type": "code",
      "source": [
        "from pyspark.sql.functions import *\n",
        "from pyspark.sql import SparkSession"
      ],
      "metadata": {
        "id": "9FdHjgC6rENB"
      },
      "execution_count": 169,
      "outputs": []
    },
    {
      "cell_type": "code",
      "source": [
        "home_work04 = (SparkSession.builder.master(\"Data_603\").appName(\"HW04\").getOrCreate())"
      ],
      "metadata": {
        "id": "otj41ISQsGzW"
      },
      "execution_count": 170,
      "outputs": []
    },
    {
      "cell_type": "code",
      "source": [
        "df = spark.read.csv('Part1_Crime_data.csv', header=True,inferSchema=True)"
      ],
      "metadata": {
        "id": "p7_XnXCgtlbW"
      },
      "execution_count": 171,
      "outputs": []
    },
    {
      "cell_type": "code",
      "source": [
        "df.printSchema()"
      ],
      "metadata": {
        "colab": {
          "base_uri": "https://localhost:8080/"
        },
        "id": "TgHrQPHu4rga",
        "outputId": "b10e6119-b947-428e-9a97-e6a840d6498f"
      },
      "execution_count": 172,
      "outputs": [
        {
          "output_type": "stream",
          "name": "stdout",
          "text": [
            "root\n",
            " |-- X: double (nullable = true)\n",
            " |-- Y: double (nullable = true)\n",
            " |-- RowID: integer (nullable = true)\n",
            " |-- CrimeDateTime: string (nullable = true)\n",
            " |-- CrimeCode: string (nullable = true)\n",
            " |-- Location: string (nullable = true)\n",
            " |-- Description: string (nullable = true)\n",
            " |-- Inside_Outside: string (nullable = true)\n",
            " |-- Weapon: string (nullable = true)\n",
            " |-- Post: string (nullable = true)\n",
            " |-- District: string (nullable = true)\n",
            " |-- Neighborhood: string (nullable = true)\n",
            " |-- Latitude: double (nullable = true)\n",
            " |-- Longitude: double (nullable = true)\n",
            " |-- GeoLocation: string (nullable = true)\n",
            " |-- Premise: string (nullable = true)\n",
            " |-- VRIName: string (nullable = true)\n",
            " |-- Total_Incidents: integer (nullable = true)\n",
            " |-- Shape: string (nullable = true)\n",
            "\n"
          ]
        }
      ]
    },
    {
      "cell_type": "code",
      "source": [
        "df.schema"
      ],
      "metadata": {
        "colab": {
          "base_uri": "https://localhost:8080/"
        },
        "id": "fOVC0AKaFUVe",
        "outputId": "b4aef502-27c3-4238-874d-424a36afe3e1"
      },
      "execution_count": 173,
      "outputs": [
        {
          "output_type": "execute_result",
          "data": {
            "text/plain": [
              "StructType(List(StructField(X,DoubleType,true),StructField(Y,DoubleType,true),StructField(RowID,IntegerType,true),StructField(CrimeDateTime,StringType,true),StructField(CrimeCode,StringType,true),StructField(Location,StringType,true),StructField(Description,StringType,true),StructField(Inside_Outside,StringType,true),StructField(Weapon,StringType,true),StructField(Post,StringType,true),StructField(District,StringType,true),StructField(Neighborhood,StringType,true),StructField(Latitude,DoubleType,true),StructField(Longitude,DoubleType,true),StructField(GeoLocation,StringType,true),StructField(Premise,StringType,true),StructField(VRIName,StringType,true),StructField(Total_Incidents,IntegerType,true),StructField(Shape,StringType,true)))"
            ]
          },
          "metadata": {},
          "execution_count": 173
        }
      ]
    },
    {
      "cell_type": "code",
      "source": [
        "df.cache()"
      ],
      "metadata": {
        "colab": {
          "base_uri": "https://localhost:8080/"
        },
        "id": "XESTwfLyQrSb",
        "outputId": "1cbea56e-2356-42f8-aef0-28ac762f60ae"
      },
      "execution_count": 174,
      "outputs": [
        {
          "output_type": "execute_result",
          "data": {
            "text/plain": [
              "DataFrame[X: double, Y: double, RowID: int, CrimeDateTime: string, CrimeCode: string, Location: string, Description: string, Inside_Outside: string, Weapon: string, Post: string, District: string, Neighborhood: string, Latitude: double, Longitude: double, GeoLocation: string, Premise: string, VRIName: string, Total_Incidents: int, Shape: string]"
            ]
          },
          "metadata": {},
          "execution_count": 174
        }
      ]
    },
    {
      "cell_type": "code",
      "source": [
        "df.count()"
      ],
      "metadata": {
        "colab": {
          "base_uri": "https://localhost:8080/"
        },
        "id": "iLz1pnnw528B",
        "outputId": "4771ee7e-aef1-4b45-c279-cddad2abd08d"
      },
      "execution_count": 175,
      "outputs": [
        {
          "output_type": "execute_result",
          "data": {
            "text/plain": [
              "513756"
            ]
          },
          "metadata": {},
          "execution_count": 175
        }
      ]
    },
    {
      "cell_type": "code",
      "source": [
        "df.show(5)"
      ],
      "metadata": {
        "colab": {
          "base_uri": "https://localhost:8080/"
        },
        "id": "sF2vAP9v6MEq",
        "outputId": "daf55254-e285-4ff0-a194-39fcc966c6ce"
      },
      "execution_count": 176,
      "outputs": [
        {
          "output_type": "stream",
          "name": "stdout",
          "text": [
            "+----------------+----------------+-----+--------------------+---------+------------------+--------------------+--------------+-------+----+---------+--------------+--------+---------+------------------+-------+-------+---------------+-----+\n",
            "|               X|               Y|RowID|       CrimeDateTime|CrimeCode|          Location|         Description|Inside_Outside| Weapon|Post| District|  Neighborhood|Latitude|Longitude|       GeoLocation|Premise|VRIName|Total_Incidents|Shape|\n",
            "+----------------+----------------+-----+--------------------+---------+------------------+--------------------+--------------+-------+----+---------+--------------+--------+---------+------------------+-------+-------+---------------+-----+\n",
            "|1428019.10487147|589532.731060804|    1|2022/03/05 03:43:...|      3NF|     1800 FLEET ST|    ROBBERY - STREET|          null|FIREARM| 213|SOUTHEAST|   FELLS POINT| 39.2847| -76.5913|(39.2847,-76.5913)|   null|   null|              1| null|\n",
            "|1428019.10487147|589532.731060804|    2|2022/03/05 03:43:...|      3NF|     1800 FLEET ST|    ROBBERY - STREET|          null|FIREARM| 213|SOUTHEAST|   FELLS POINT| 39.2847| -76.5913|(39.2847,-76.5913)|   null|   null|              1| null|\n",
            "|1428019.10487147|589532.731060804|    3|2022/03/05 03:43:...|      3NF|     1800 FLEET ST|    ROBBERY - STREET|          null|FIREARM| 213|SOUTHEAST|   FELLS POINT| 39.2847| -76.5913|(39.2847,-76.5913)|   null|   null|              1| null|\n",
            "|1423024.46477252| 572683.29122287|    4|2022/03/05 04:30:...|      3CF|100 E PATAPSCO AVE|ROBBERY - COMMERCIAL|          null|FIREARM| 913| SOUTHERN|      BROOKLYN| 39.2385| -76.6092|(39.2385,-76.6092)|   null|   null|              1| null|\n",
            "|1400632.37017858|593904.722108476|    5|2022/03/05 01:30:...|      3AF|     RD & KEVIN RD|    ROBBERY - STREET|          null|FIREARM| 822|SOUTHWEST|ROGNEL HEIGHTS|  39.297|  -76.688|  (39.297,-76.688)|   null|   null|              1| null|\n",
            "+----------------+----------------+-----+--------------------+---------+------------------+--------------------+--------------+-------+----+---------+--------------+--------+---------+------------------+-------+-------+---------------+-----+\n",
            "only showing top 5 rows\n",
            "\n"
          ]
        }
      ]
    },
    {
      "cell_type": "code",
      "source": [
        "#1.\n",
        "df.select('CrimeCode').distinct().sort('CrimeCode').collect()"
      ],
      "metadata": {
        "colab": {
          "base_uri": "https://localhost:8080/"
        },
        "id": "-eVC7trT8X5y",
        "outputId": "2f34c826-c86f-468b-ec52-fcf7bd3cd2ed"
      },
      "execution_count": 177,
      "outputs": [
        {
          "output_type": "execute_result",
          "data": {
            "text/plain": [
              "[Row(CrimeCode='1A'),\n",
              " Row(CrimeCode='1K'),\n",
              " Row(CrimeCode='1O'),\n",
              " Row(CrimeCode='2A'),\n",
              " Row(CrimeCode='2B'),\n",
              " Row(CrimeCode='3AF'),\n",
              " Row(CrimeCode='3AJF'),\n",
              " Row(CrimeCode='3AJK'),\n",
              " Row(CrimeCode='3AJO'),\n",
              " Row(CrimeCode='3AK'),\n",
              " Row(CrimeCode='3AO'),\n",
              " Row(CrimeCode='3B'),\n",
              " Row(CrimeCode='3BJ'),\n",
              " Row(CrimeCode='3C'),\n",
              " Row(CrimeCode='3CF'),\n",
              " Row(CrimeCode='3CK'),\n",
              " Row(CrimeCode='3CO'),\n",
              " Row(CrimeCode='3D'),\n",
              " Row(CrimeCode='3E'),\n",
              " Row(CrimeCode='3EF'),\n",
              " Row(CrimeCode='3EK'),\n",
              " Row(CrimeCode='3EO'),\n",
              " Row(CrimeCode='3F'),\n",
              " Row(CrimeCode='3GF'),\n",
              " Row(CrimeCode='3GK'),\n",
              " Row(CrimeCode='3GO'),\n",
              " Row(CrimeCode='3H'),\n",
              " Row(CrimeCode='3J'),\n",
              " Row(CrimeCode='3JF'),\n",
              " Row(CrimeCode='3JK'),\n",
              " Row(CrimeCode='3JO'),\n",
              " Row(CrimeCode='3K'),\n",
              " Row(CrimeCode='3L'),\n",
              " Row(CrimeCode='3LF'),\n",
              " Row(CrimeCode='3LK'),\n",
              " Row(CrimeCode='3LO'),\n",
              " Row(CrimeCode='3M'),\n",
              " Row(CrimeCode='3N'),\n",
              " Row(CrimeCode='3NF'),\n",
              " Row(CrimeCode='3NK'),\n",
              " Row(CrimeCode='3NO'),\n",
              " Row(CrimeCode='3P'),\n",
              " Row(CrimeCode='4A'),\n",
              " Row(CrimeCode='4B'),\n",
              " Row(CrimeCode='4C'),\n",
              " Row(CrimeCode='4D'),\n",
              " Row(CrimeCode='4E'),\n",
              " Row(CrimeCode='5A'),\n",
              " Row(CrimeCode='5B'),\n",
              " Row(CrimeCode='5C'),\n",
              " Row(CrimeCode='5D'),\n",
              " Row(CrimeCode='5E'),\n",
              " Row(CrimeCode='5F'),\n",
              " Row(CrimeCode='5G'),\n",
              " Row(CrimeCode='6A'),\n",
              " Row(CrimeCode='6B'),\n",
              " Row(CrimeCode='6C'),\n",
              " Row(CrimeCode='6D'),\n",
              " Row(CrimeCode='6E'),\n",
              " Row(CrimeCode='6F'),\n",
              " Row(CrimeCode='6G'),\n",
              " Row(CrimeCode='6H'),\n",
              " Row(CrimeCode='6J'),\n",
              " Row(CrimeCode='6K'),\n",
              " Row(CrimeCode='6L'),\n",
              " Row(CrimeCode='7A'),\n",
              " Row(CrimeCode='7B'),\n",
              " Row(CrimeCode='7C'),\n",
              " Row(CrimeCode='8AO'),\n",
              " Row(CrimeCode='8AV'),\n",
              " Row(CrimeCode='8BO'),\n",
              " Row(CrimeCode='8BV'),\n",
              " Row(CrimeCode='8CO'),\n",
              " Row(CrimeCode='8CV'),\n",
              " Row(CrimeCode='8DO'),\n",
              " Row(CrimeCode='8EO'),\n",
              " Row(CrimeCode='8EV'),\n",
              " Row(CrimeCode='8FO'),\n",
              " Row(CrimeCode='8FV'),\n",
              " Row(CrimeCode='8GO'),\n",
              " Row(CrimeCode='8GV'),\n",
              " Row(CrimeCode='8H'),\n",
              " Row(CrimeCode='8I'),\n",
              " Row(CrimeCode='8J'),\n",
              " Row(CrimeCode='9S')]"
            ]
          },
          "metadata": {},
          "execution_count": 177
        }
      ]
    },
    {
      "cell_type": "code",
      "source": [
        "#2.\n",
        "df.groupBy('CrimeCode').count().sort('count',ascending=False).collect()"
      ],
      "metadata": {
        "colab": {
          "base_uri": "https://localhost:8080/"
        },
        "id": "IcdJlvY5TF6f",
        "outputId": "3ebdc0fa-3f32-4831-a02c-75686bc91b46"
      },
      "execution_count": 178,
      "outputs": [
        {
          "output_type": "execute_result",
          "data": {
            "text/plain": [
              "[Row(CrimeCode='4E', count=91822),\n",
              " Row(CrimeCode='6D', count=68508),\n",
              " Row(CrimeCode='5A', count=43956),\n",
              " Row(CrimeCode='7A', count=40308),\n",
              " Row(CrimeCode='6J', count=27670),\n",
              " Row(CrimeCode='6G', count=26898),\n",
              " Row(CrimeCode='6E', count=24310),\n",
              " Row(CrimeCode='6C', count=23269),\n",
              " Row(CrimeCode='4C', count=22455),\n",
              " Row(CrimeCode='5D', count=14971),\n",
              " Row(CrimeCode='3AF', count=14760),\n",
              " Row(CrimeCode='4B', count=14501),\n",
              " Row(CrimeCode='4A', count=13240),\n",
              " Row(CrimeCode='3B', count=10735),\n",
              " Row(CrimeCode='4D', count=7222),\n",
              " Row(CrimeCode='5B', count=6481),\n",
              " Row(CrimeCode='9S', count=5452),\n",
              " Row(CrimeCode='6F', count=5058),\n",
              " Row(CrimeCode='5C', count=4917),\n",
              " Row(CrimeCode='6B', count=4106),\n",
              " Row(CrimeCode='3CF', count=3776),\n",
              " Row(CrimeCode='2A', count=3172),\n",
              " Row(CrimeCode='3AJF', count=3020),\n",
              " Row(CrimeCode='3AK', count=2982),\n",
              " Row(CrimeCode='3K', count=2833),\n",
              " Row(CrimeCode='7C', count=2726),\n",
              " Row(CrimeCode='1A', count=2631),\n",
              " Row(CrimeCode='3AO', count=2486),\n",
              " Row(CrimeCode='5F', count=2192),\n",
              " Row(CrimeCode='3JF', count=1819),\n",
              " Row(CrimeCode='3D', count=1432),\n",
              " Row(CrimeCode='5E', count=1419),\n",
              " Row(CrimeCode='6L', count=1206),\n",
              " Row(CrimeCode='8H', count=1053),\n",
              " Row(CrimeCode='3P', count=873),\n",
              " Row(CrimeCode='3GF', count=800),\n",
              " Row(CrimeCode='6A', count=782),\n",
              " Row(CrimeCode='3BJ', count=754),\n",
              " Row(CrimeCode='3CK', count=591),\n",
              " Row(CrimeCode='3CO', count=516),\n",
              " Row(CrimeCode='3NF', count=445),\n",
              " Row(CrimeCode='3JK', count=423),\n",
              " Row(CrimeCode='8AO', count=413),\n",
              " Row(CrimeCode='3JO', count=413),\n",
              " Row(CrimeCode='2B', count=355),\n",
              " Row(CrimeCode='7B', count=291),\n",
              " Row(CrimeCode='8J', count=279),\n",
              " Row(CrimeCode='3H', count=261),\n",
              " Row(CrimeCode='1K', count=230),\n",
              " Row(CrimeCode='3AJO', count=225),\n",
              " Row(CrimeCode='6H', count=222),\n",
              " Row(CrimeCode='3J', count=216),\n",
              " Row(CrimeCode='1O', count=192),\n",
              " Row(CrimeCode='3N', count=181),\n",
              " Row(CrimeCode='3EF', count=177),\n",
              " Row(CrimeCode='3AJK', count=172),\n",
              " Row(CrimeCode='8FO', count=154),\n",
              " Row(CrimeCode='3GO', count=133),\n",
              " Row(CrimeCode='3M', count=121),\n",
              " Row(CrimeCode='8AV', count=121),\n",
              " Row(CrimeCode='3F', count=120),\n",
              " Row(CrimeCode='3NK', count=120),\n",
              " Row(CrimeCode='3GK', count=117),\n",
              " Row(CrimeCode='8BO', count=104),\n",
              " Row(CrimeCode='3LF', count=97),\n",
              " Row(CrimeCode='3NO', count=83),\n",
              " Row(CrimeCode='8EO', count=78),\n",
              " Row(CrimeCode='3EO', count=47),\n",
              " Row(CrimeCode='8I', count=47),\n",
              " Row(CrimeCode='3EK', count=40),\n",
              " Row(CrimeCode='3LO', count=35),\n",
              " Row(CrimeCode='8BV', count=26),\n",
              " Row(CrimeCode='8GO', count=24),\n",
              " Row(CrimeCode='5G', count=21),\n",
              " Row(CrimeCode='8CO', count=13),\n",
              " Row(CrimeCode='8EV', count=10),\n",
              " Row(CrimeCode='8FV', count=9),\n",
              " Row(CrimeCode='6K', count=7),\n",
              " Row(CrimeCode='8GV', count=7),\n",
              " Row(CrimeCode='8CV', count=7),\n",
              " Row(CrimeCode='3LK', count=5),\n",
              " Row(CrimeCode='3E', count=5),\n",
              " Row(CrimeCode='3C', count=4),\n",
              " Row(CrimeCode='8DO', count=3),\n",
              " Row(CrimeCode='3L', count=1)]"
            ]
          },
          "metadata": {},
          "execution_count": 178
        }
      ]
    },
    {
      "cell_type": "code",
      "source": [
        "#3.\n",
        "df.groupBy('Neighborhood').count().sort('count',ascending=False).collect()"
      ],
      "metadata": {
        "colab": {
          "base_uri": "https://localhost:8080/"
        },
        "id": "bL_95r2bWSrT",
        "outputId": "d0098ef3-2039-452e-aef1-c8f8dd0a510d"
      },
      "execution_count": 179,
      "outputs": [
        {
          "output_type": "execute_result",
          "data": {
            "text/plain": [
              "[Row(Neighborhood='DOWNTOWN', count=17818),\n",
              " Row(Neighborhood='FRANKFORD', count=12062),\n",
              " Row(Neighborhood='BELAIR-EDISON', count=10895),\n",
              " Row(Neighborhood='BROOKLYN', count=9043),\n",
              " Row(Neighborhood='CANTON', count=7548),\n",
              " Row(Neighborhood='SANDTOWN-WINCHESTER', count=7430),\n",
              " Row(Neighborhood='CHERRY HILL', count=7407),\n",
              " Row(Neighborhood='UPTON', count=6510),\n",
              " Row(Neighborhood='MOUNT VERNON', count=6160),\n",
              " Row(Neighborhood='FELLS POINT', count=6015),\n",
              " Row(Neighborhood='INNER HARBOR', count=5990),\n",
              " Row(Neighborhood='PATTERSON PARK NEIGHBORHOOD', count=5988),\n",
              " Row(Neighborhood='WASHINGTON VILLAGE/PIGTOWN', count=5940),\n",
              " Row(Neighborhood='HAMILTON HILLS', count=5917),\n",
              " Row(Neighborhood='COLDSTREAM HOMESTEAD MONTEBELLO', count=5819),\n",
              " Row(Neighborhood='MONDAWMIN', count=5761),\n",
              " Row(Neighborhood='MCELDERRY PARK', count=5676),\n",
              " Row(Neighborhood='CENTRAL PARK HEIGHTS', count=5258),\n",
              " Row(Neighborhood='CARROLLTON RIDGE', count=5034),\n",
              " Row(Neighborhood='BROADWAY EAST', count=5004),\n",
              " Row(Neighborhood='HAMPDEN', count=4719),\n",
              " Row(Neighborhood='EAST BALTIMORE MIDWAY', count=4618),\n",
              " Row(Neighborhood='RESERVOIR HILL', count=4517),\n",
              " Row(Neighborhood='MID-TOWN BELVEDERE', count=4440),\n",
              " Row(Neighborhood='ELLWOOD PARK/MONUMENT', count=4438),\n",
              " Row(Neighborhood='OLIVER', count=4280),\n",
              " Row(Neighborhood='MORRELL PARK', count=4180),\n",
              " Row(Neighborhood='CHARLES VILLAGE', count=4153),\n",
              " Row(Neighborhood='BALTIMORE HIGHLANDS', count=3998),\n",
              " Row(Neighborhood='PULASKI INDUSTRIAL AREA', count=3862),\n",
              " Row(Neighborhood='HARLEM PARK', count=3728),\n",
              " Row(Neighborhood='REISTERSTOWN STATION', count=3695),\n",
              " Row(Neighborhood='LAKELAND', count=3663),\n",
              " Row(Neighborhood='CURTIS BAY', count=3628),\n",
              " Row(Neighborhood='PENROSE/FAYETTE STREET OUTREACH', count=3614),\n",
              " Row(Neighborhood='WALTHERSON', count=3574),\n",
              " Row(Neighborhood='BETTER WAVERLY', count=3565),\n",
              " Row(Neighborhood='HIGHLANDTOWN', count=3516),\n",
              " Row(Neighborhood='CHARLES NORTH', count=3498),\n",
              " Row(Neighborhood='PENN NORTH', count=3412),\n",
              " Row(Neighborhood='IRVINGTON', count=3408),\n",
              " Row(Neighborhood='WASHINGTON HILL', count=3314),\n",
              " Row(Neighborhood='GLENHAM-BELHAR', count=3288),\n",
              " Row(Neighborhood='HOWARD PARK', count=3276),\n",
              " Row(Neighborhood='DUNBAR-BROADWAY', count=3237),\n",
              " Row(Neighborhood='MILLHILL', count=3228),\n",
              " Row(Neighborhood='EDNOR GARDENS-LAKESIDE', count=3188),\n",
              " Row(Neighborhood='BOLTON HILL', count=3063),\n",
              " Row(Neighborhood='GLEN', count=3037),\n",
              " Row(Neighborhood='BARCLAY', count=3005),\n",
              " Row(Neighborhood='FRANKLIN SQUARE', count=2935),\n",
              " Row(Neighborhood='RIVERSIDE', count=2903),\n",
              " Row(Neighborhood='POPPLETON', count=2816),\n",
              " Row(Neighborhood='FEDERAL HILL', count=2774),\n",
              " Row(Neighborhood='CARROLL - CAMDEN INDUSTRIAL AREA', count=2765),\n",
              " Row(Neighborhood='LOCH RAVEN', count=2763),\n",
              " Row(Neighborhood='BEREA', count=2743),\n",
              " Row(Neighborhood='WOODMERE', count=2741),\n",
              " Row(Neighborhood='OLDTOWN', count=2722),\n",
              " Row(Neighborhood='MADISON PARK', count=2670),\n",
              " Row(Neighborhood='JONESTOWN', count=2589),\n",
              " Row(Neighborhood='JOHNSTON SQUARE', count=2513),\n",
              " Row(Neighborhood='GREEKTOWN', count=2512),\n",
              " Row(Neighborhood='NEW NORTHWOOD', count=2493),\n",
              " Row(Neighborhood='NORTH HARFORD ROAD', count=2434),\n",
              " Row(Neighborhood='UPPER FELLS POINT', count=2429),\n",
              " Row(Neighborhood='CARE', count=2403),\n",
              " Row(Neighborhood='HOLLINS MARKET', count=2399),\n",
              " Row(Neighborhood='ROSEMONT', count=2386),\n",
              " Row(Neighborhood='CANTON INDUSTRIAL AREA', count=2377),\n",
              " Row(Neighborhood='NEW SOUTHWEST/MOUNT CLARE', count=2311),\n",
              " Row(Neighborhood='ALLENDALE', count=2307),\n",
              " Row(Neighborhood='ARLINGTON', count=2201),\n",
              " Row(Neighborhood='MADISON-EASTEND', count=2187),\n",
              " Row(Neighborhood='PARK CIRCLE', count=2161),\n",
              " Row(Neighborhood='GAY STREET', count=2150),\n",
              " Row(Neighborhood='WALBROOK', count=2141),\n",
              " Row(Neighborhood='DRUID HEIGHTS', count=2137),\n",
              " Row(Neighborhood='MIDDLE EAST', count=2093),\n",
              " Row(Neighborhood='LAURAVILLE', count=2069),\n",
              " Row(Neighborhood='COPPIN HEIGHTS/ASH-CO-EAST', count=2042),\n",
              " Row(Neighborhood='DOWNTOWN WEST', count=2009),\n",
              " Row(Neighborhood='REMINGTON', count=1985),\n",
              " Row(Neighborhood='HANLON-LONGWOOD', count=1983),\n",
              " Row(Neighborhood='WAVERLY', count=1982),\n",
              " Row(Neighborhood='GREENSPRING', count=1940),\n",
              " Row(Neighborhood='CEDMONT', count=1937),\n",
              " Row(Neighborhood='MIDTOWN-EDMONDSON', count=1928),\n",
              " Row(Neighborhood='VIOLETVILLE', count=1922),\n",
              " Row(Neighborhood='EDMONDSON VILLAGE', count=1921),\n",
              " Row(Neighborhood='SHIPLEY HILL', count=1920),\n",
              " Row(Neighborhood='GREENMOUNT WEST', count=1906),\n",
              " Row(Neighborhood='BRIDGEVIEW/GREENLAWN', count=1887),\n",
              " Row(Neighborhood='SETON HILL', count=1818),\n",
              " Row(Neighborhood='ARMISTEAD GARDENS', count=1800),\n",
              " Row(Neighborhood='GRACELAND PARK', count=1799),\n",
              " Row(Neighborhood='MILTON-MONTFORD', count=1780),\n",
              " Row(Neighborhood=None, count=1775),\n",
              " Row(Neighborhood=\"BUTCHER'S HILL\", count=1771),\n",
              " Row(Neighborhood='PEN LUCY', count=1717),\n",
              " Row(Neighborhood='SOUTH BALTIMORE', count=1707),\n",
              " Row(Neighborhood='GLEN OAKS', count=1682),\n",
              " Row(Neighborhood='WESTFIELD', count=1629),\n",
              " Row(Neighborhood='FALLSTAFF', count=1612),\n",
              " Row(Neighborhood='EDGEWOOD', count=1594),\n",
              " Row(Neighborhood='BEECHFIELD', count=1590),\n",
              " Row(Neighborhood='WESTPORT', count=1590),\n",
              " Row(Neighborhood='CYLBURN', count=1584),\n",
              " Row(Neighborhood='FRANKLINTOWN ROAD', count=1562),\n",
              " Row(Neighborhood='BAYVIEW', count=1553),\n",
              " Row(Neighborhood='SAINT JOSEPHS', count=1551),\n",
              " Row(Neighborhood='NORTHWEST COMMUNITY ACTION', count=1546),\n",
              " Row(Neighborhood='OLD GOUCHER', count=1543),\n",
              " Row(Neighborhood='PARKVIEW/WOODBROOK', count=1537),\n",
              " Row(Neighborhood='UNIVERSITY OF MARYLAND', count=1515),\n",
              " Row(Neighborhood='DORCHESTER', count=1510),\n",
              " Row(Neighborhood='DOLFIELD', count=1490),\n",
              " Row(Neighborhood='ROGNEL HEIGHTS', count=1483),\n",
              " Row(Neighborhood='PATTERSON PLACE', count=1460),\n",
              " Row(Neighborhood='PENN-FALLSWAY', count=1459),\n",
              " Row(Neighborhood='HARWOOD', count=1411),\n",
              " Row(Neighborhood='MOSHER', count=1407),\n",
              " Row(Neighborhood='HOMELAND', count=1404),\n",
              " Row(Neighborhood='UNION SQUARE', count=1383),\n",
              " Row(Neighborhood='WESTGATE', count=1375),\n",
              " Row(Neighborhood='MOUNT WASHINGTON', count=1370),\n",
              " Row(Neighborhood='ASHBURTON', count=1369),\n",
              " Row(Neighborhood='SOUTH CLIFTON PARK', count=1364),\n",
              " Row(Neighborhood='EASTERWOOD', count=1361),\n",
              " Row(Neighborhood='ROLAND PARK', count=1350),\n",
              " Row(Neighborhood='MOUNT HOLLY', count=1337),\n",
              " Row(Neighborhood='PARKSIDE', count=1330),\n",
              " Row(Neighborhood='BROENING MANOR', count=1328),\n",
              " Row(Neighborhood='ROSEMONT HOMEOWNERS/TENANTS', count=1324),\n",
              " Row(Neighborhood='WEST ARLINGTON', count=1321),\n",
              " Row(Neighborhood='YALE HEIGHTS', count=1318),\n",
              " Row(Neighborhood='GWYNNS FALLS', count=1305),\n",
              " Row(Neighborhood='BREWERS HILL', count=1304),\n",
              " Row(Neighborhood='LITTLE ITALY', count=1278),\n",
              " Row(Neighborhood='HILLEN', count=1273),\n",
              " Row(Neighborhood='PARKLANE', count=1266),\n",
              " Row(Neighborhood='CHESWOLDE', count=1257),\n",
              " Row(Neighborhood='WEST FOREST PARK', count=1246),\n",
              " Row(Neighborhood='CEDONIA', count=1245),\n",
              " Row(Neighborhood='ABELL', count=1238),\n",
              " Row(Neighborhood='CLIFTON PARK', count=1208),\n",
              " Row(Neighborhood='TOWANDA-GRANTLEY', count=1176),\n",
              " Row(Neighborhood='PERKINS HOMES', count=1157),\n",
              " Row(Neighborhood='FOREST PARK', count=1152),\n",
              " Row(Neighborhood='PERRING LOCH', count=1140),\n",
              " Row(Neighborhood='GUILFORD', count=1134),\n",
              " Row(Neighborhood='LIBERTY SQUARE', count=1132),\n",
              " Row(Neighborhood='ROSEMONT EAST', count=1088),\n",
              " Row(Neighborhood='EAST ARLINGTON', count=1077),\n",
              " Row(Neighborhood='GROVE PARK', count=1077),\n",
              " Row(Neighborhood='WOODBERRY', count=1059),\n",
              " Row(Neighborhood='CROSS COUNTRY', count=1055),\n",
              " Row(Neighborhood='CALLAWAY-GARRISON', count=1050),\n",
              " Row(Neighborhood='BIDDLE STREET', count=1038),\n",
              " Row(Neighborhood='PIMLICO GOOD NEIGHBORS', count=1037),\n",
              " Row(Neighborhood='FOUR BY FOUR', count=1025),\n",
              " Row(Neighborhood='WINDSOR HILLS', count=1010),\n",
              " Row(Neighborhood='CARROLL-SOUTH HILTON', count=1009),\n",
              " Row(Neighborhood='LEVINDALE', count=993),\n",
              " Row(Neighborhood='OTTERBEIN', count=967),\n",
              " Row(Neighborhood='LANGSTON HUGHES', count=951),\n",
              " Row(Neighborhood='WINCHESTER', count=947),\n",
              " Row(Neighborhood='DARLEY PARK', count=940),\n",
              " Row(Neighborhood='MEDFIELD', count=925),\n",
              " Row(Neighborhood='HERITAGE CROSSING', count=923),\n",
              " Row(Neighborhood='WOODBOURNE HEIGHTS', count=909),\n",
              " Row(Neighborhood='CENTRAL FOREST PARK', count=908),\n",
              " Row(Neighborhood='ORCHARD RIDGE', count=898),\n",
              " Row(Neighborhood='MEDFORD', count=897),\n",
              " Row(Neighborhood='GARWYN OAKS', count=894),\n",
              " Row(Neighborhood='WAKEFIELD', count=894),\n",
              " Row(Neighborhood='HUNTING RIDGE', count=892),\n",
              " Row(Neighborhood='SHARP-LEADENHALL', count=891),\n",
              " Row(Neighborhood='IDLEWOOD', count=883),\n",
              " Row(Neighborhood='MID-GOVANS', count=869),\n",
              " Row(Neighborhood='ORANGEVILLE', count=859),\n",
              " Row(Neighborhood=\"RIDGELY'S DELIGHT\", count=858),\n",
              " Row(Neighborhood='CAMERON VILLAGE', count=846),\n",
              " Row(Neighborhood='WINSTON-GOVANS', count=828),\n",
              " Row(Neighborhood='KRESSON', count=828),\n",
              " Row(Neighborhood='PANWAY/BRADDISH AVENUE', count=816),\n",
              " Row(Neighborhood='RAMBLEWOOD', count=810),\n",
              " Row(Neighborhood='HOPKINS BAYVIEW', count=801),\n",
              " Row(Neighborhood='PLEASANT VIEW GARDENS', count=800),\n",
              " Row(Neighborhood='SETON BUSINESS PARK', count=796),\n",
              " Row(Neighborhood='WEST HILLS', count=788),\n",
              " Row(Neighborhood='LAKE WALKER', count=784),\n",
              " Row(Neighborhood='FAIRFIELD AREA', count=771),\n",
              " Row(Neighborhood='OAKENSHAWE', count=768),\n",
              " Row(Neighborhood='CONCERNED CITIZENS OF FOREST PARK', count=744),\n",
              " Row(Neighborhood='MIDDLE BRANCH/REEDBIRD PARKS', count=729),\n",
              " Row(Neighborhood='TEN HILLS', count=723),\n",
              " Row(Neighborhood='BOYD-BOOTH', count=698),\n",
              " Row(Neighborhood='EVERGREEN LAWN', count=695),\n",
              " Row(Neighborhood=\"O'DONNELL HEIGHTS\", count=693),\n",
              " Row(Neighborhood='WOODBOURNE-MCCABE', count=685),\n",
              " Row(Neighborhood='COLDSPRING', count=674),\n",
              " Row(Neighborhood='FAIRMONT', count=658),\n",
              " Row(Neighborhood='KENILWORTH PARK', count=653),\n",
              " Row(Neighborhood='LOCUST POINT', count=639),\n",
              " Row(Neighborhood='ORIGINAL NORTHWOOD', count=627),\n",
              " Row(Neighborhood='CHINQUAPIN PARK', count=621),\n",
              " Row(Neighborhood='HOES HEIGHTS', count=612),\n",
              " Row(Neighborhood='WILHELM PARK', count=595),\n",
              " Row(Neighborhood='ARCADIA', count=592),\n",
              " Row(Neighborhood='FRANKLINTOWN', count=574),\n",
              " Row(Neighborhood='BELVEDERE', count=560),\n",
              " Row(Neighborhood='BURLEITH-LEIGHTON', count=554),\n",
              " Row(Neighborhood='SAINT AGNES', count=541),\n",
              " Row(Neighborhood='LUCILLE PARK', count=541),\n",
              " Row(Neighborhood='WILSON PARK', count=538),\n",
              " Row(Neighborhood='WYMAN PARK', count=532),\n",
              " Row(Neighborhood='LOCUST POINT INDUSTRIAL AREA', count=523),\n",
              " Row(Neighborhood='UPLANDS', count=520),\n",
              " Row(Neighborhood='MAYFIELD', count=510),\n",
              " Row(Neighborhood='STADIUM AREA', count=508),\n",
              " Row(Neighborhood='ROSEBANK', count=499),\n",
              " Row(Neighborhood='RADNOR-WINSTON', count=478),\n",
              " Row(Neighborhood='MOUNT WINANS', count=475),\n",
              " Row(Neighborhood='PATTERSON PARK', count=471),\n",
              " Row(Neighborhood='ORANGEVILLE INDUSTRIAL AREA', count=451),\n",
              " Row(Neighborhood='MORAVIA-WALTHER', count=445),\n",
              " Row(Neighborhood='STONEWOOD-PENTWOOD-WINSTON', count=439),\n",
              " Row(Neighborhood='LOWER EDMONDSON VILLAGE', count=435),\n",
              " Row(Neighborhood='BEVERLY HILLS', count=427),\n",
              " Row(Neighborhood='JONES FALLS AREA', count=426),\n",
              " Row(Neighborhood='NORTH ROLAND PARK/POPLAR HILL', count=425),\n",
              " Row(Neighborhood='TUSCANY-CANTERBURY', count=402),\n",
              " Row(Neighborhood='CARROLL PARK', count=402),\n",
              " Row(Neighborhood='SAINT HELENA', count=397),\n",
              " Row(Neighborhood='MONTEBELLO', count=394),\n",
              " Row(Neighborhood='MORGAN STATE UNIVERSITY', count=385),\n",
              " Row(Neighborhood='RICHNOR SPRINGS', count=381),\n",
              " Row(Neighborhood='PORT COVINGTON', count=373),\n",
              " Row(Neighborhood='EVESHAM PARK', count=362),\n",
              " Row(Neighborhood='BARRE CIRCLE', count=359),\n",
              " Row(Neighborhood='TREMONT', count=346),\n",
              " Row(Neighborhood='OAKLEE', count=345),\n",
              " Row(Neighborhood='OVERLEA', count=345),\n",
              " Row(Neighborhood='KERNEWOOD', count=345),\n",
              " Row(Neighborhood='WYNDHURST', count=318),\n",
              " Row(Neighborhood='JOHNS HOPKINS HOMEWOOD', count=313),\n",
              " Row(Neighborhood='BELAIR-PARKSIDE', count=308),\n",
              " Row(Neighborhood='CROSS KEYS', count=307),\n",
              " Row(Neighborhood='WRENLANE', count=306),\n",
              " Row(Neighborhood='CEDARCROFT', count=304),\n",
              " Row(Neighborhood='DRUID HILL PARK', count=295),\n",
              " Row(Neighborhood='PURNELL', count=294),\n",
              " Row(Neighborhood='HAWKINS POINT', count=279),\n",
              " Row(Neighborhood='EASTWOOD', count=278),\n",
              " Row(Neighborhood='LAKE EVESHAM', count=245),\n",
              " Row(Neighborhood='HOLABIRD INDUSTRIAL PARK', count=241),\n",
              " Row(Neighborhood='SABINA-MATTFELDT', count=229),\n",
              " Row(Neighborhood='EVERGREEN', count=217),\n",
              " Row(Neighborhood='GWYNNS FALLS/LEAKIN PARK', count=198),\n",
              " Row(Neighborhood='YORK-HOMELAND', count=190),\n",
              " Row(Neighborhood='DICKEYVILLE', count=158),\n",
              " Row(Neighborhood='KESWICK', count=154),\n",
              " Row(Neighborhood='FOREST PARK GOLF COURSE', count=153),\n",
              " Row(Neighborhood='LOYOLA/NOTRE DAME', count=147),\n",
              " Row(Neighborhood='SPRING GARDEN INDUSTRIAL AREA', count=142),\n",
              " Row(Neighborhood='SAINT PAUL', count=142),\n",
              " Row(Neighborhood='BELLONA-GITTINGS', count=132),\n",
              " Row(Neighborhood='THE ORCHARDS', count=125),\n",
              " Row(Neighborhood='CURTIS BAY INDUSTRIAL AREA', count=123),\n",
              " Row(Neighborhood='HERRING RUN PARK', count=107),\n",
              " Row(Neighborhood='MORGAN PARK', count=100),\n",
              " Row(Neighborhood='LOWER HERRING RUN PARK', count=79),\n",
              " Row(Neighborhood='TAYLOR HEIGHTS', count=79),\n",
              " Row(Neighborhood='VILLAGES OF HOMELAND', count=73),\n",
              " Row(Neighborhood='GREENMOUNT CEMETERY', count=46),\n",
              " Row(Neighborhood='MT PLEASANT PARK', count=31),\n",
              " Row(Neighborhood='BLYTHEWOOD', count=10),\n",
              " Row(Neighborhood='DUNDALK MARINE TERMINAL', count=5)]"
            ]
          },
          "metadata": {},
          "execution_count": 179
        }
      ]
    },
    {
      "cell_type": "code",
      "source": [
        "#4.\n",
        "df.groupby(df.CrimeDateTime[6:2:].alias('Month')).count().sort('count',ascending=False).select ('Month','count').show()"
      ],
      "metadata": {
        "colab": {
          "base_uri": "https://localhost:8080/"
        },
        "id": "Od2b6_P2XdyH",
        "outputId": "4794dc5e-878f-4a0a-89bb-f5cbe29acd6c"
      },
      "execution_count": 180,
      "outputs": [
        {
          "output_type": "stream",
          "name": "stdout",
          "text": [
            "+-----+-----+\n",
            "|Month|count|\n",
            "+-----+-----+\n",
            "|   08|46322|\n",
            "|   10|46207|\n",
            "|   07|45982|\n",
            "|   05|45035|\n",
            "|   06|44989|\n",
            "|   09|44827|\n",
            "|   01|42225|\n",
            "|   11|42022|\n",
            "|   12|41593|\n",
            "|   04|40012|\n",
            "|   03|39002|\n",
            "|   02|35540|\n",
            "+-----+-----+\n",
            "\n"
          ]
        }
      ]
    },
    {
      "cell_type": "code",
      "source": [
        "#5.\n",
        "df.select('Weapon').distinct().show()"
      ],
      "metadata": {
        "colab": {
          "base_uri": "https://localhost:8080/"
        },
        "id": "zsF6EVLqZ-2W",
        "outputId": "cdd02e03-90ce-436a-92f0-e1ba69035bfc"
      },
      "execution_count": 181,
      "outputs": [
        {
          "output_type": "stream",
          "name": "stdout",
          "text": [
            "+-------+\n",
            "| Weapon|\n",
            "+-------+\n",
            "|     NA|\n",
            "|   null|\n",
            "|  HANDS|\n",
            "|  KNIFE|\n",
            "|  OTHER|\n",
            "|   FIRE|\n",
            "|FIREARM|\n",
            "+-------+\n",
            "\n"
          ]
        }
      ]
    },
    {
      "cell_type": "code",
      "source": [
        "#6.\n",
        "exculde=['NA','null','OTHER']\n",
        "df2.filter(~df2.Weapon.isin(exculde)).groupBy('Weapon').count().sort('count', ascending=False).show()"
      ],
      "metadata": {
        "colab": {
          "base_uri": "https://localhost:8080/"
        },
        "id": "TEycd57bhWy7",
        "outputId": "a7bd4ac1-84b0-4e5f-ecec-65a2f2820608"
      },
      "execution_count": 182,
      "outputs": [
        {
          "output_type": "stream",
          "name": "stdout",
          "text": [
            "+-------+-----+\n",
            "| Weapon|count|\n",
            "+-------+-----+\n",
            "|FIREARM|46217|\n",
            "|  KNIFE|19181|\n",
            "|  HANDS| 7222|\n",
            "|   FIRE| 2348|\n",
            "+-------+-----+\n",
            "\n"
          ]
        }
      ]
    },
    {
      "cell_type": "code",
      "source": [
        ""
      ],
      "metadata": {
        "id": "dY9YempCpHX4"
      },
      "execution_count": null,
      "outputs": []
    }
  ]
}